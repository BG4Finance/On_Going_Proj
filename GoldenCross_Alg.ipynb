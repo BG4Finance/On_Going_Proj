{
  "nbformat": 4,
  "nbformat_minor": 0,
  "metadata": {
    "colab": {
      "name": "GoldenCross.ipynb",
      "provenance": [],
      "include_colab_link": true
    },
    "kernelspec": {
      "name": "python3",
      "display_name": "Python 3"
    }
  },
  "cells": [
    {
      "cell_type": "markdown",
      "metadata": {
        "id": "view-in-github",
        "colab_type": "text"
      },
      "source": [
        "<a href=\"https://colab.research.google.com/github/BG4Finance/On_Going_Proj/blob/master/GoldenCross_Alg.ipynb\" target=\"_parent\"><img src=\"https://colab.research.google.com/assets/colab-badge.svg\" alt=\"Open In Colab\"/></a>"
      ]
    },
    {
      "cell_type": "code",
      "metadata": {
        "id": "aYJWWjS_4jS9",
        "colab_type": "code",
        "colab": {}
      },
      "source": [
        "!pip3 install alpaca-trade-api"
      ],
      "execution_count": 0,
      "outputs": []
    },
    {
      "cell_type": "code",
      "metadata": {
        "id": "K85y2eXS3ql2",
        "colab_type": "code",
        "colab": {}
      },
      "source": [
        "import alpaca_trade_api as alp\n",
        "import numpy as np\n",
        "import pandas as pd\n",
        "import statistics\n",
        "import sys\n",
        "import time\n",
        "import datetime as dt\n",
        "from datetime import datetime, timedelta\n",
        "from pytz import timezone"
      ],
      "execution_count": 0,
      "outputs": []
    },
    {
      "cell_type": "code",
      "metadata": {
        "id": "VITr3Odn4wzV",
        "colab_type": "code",
        "outputId": "4f852a39-a184-4df0-e685-93f583c05434",
        "colab": {
          "base_uri": "https://localhost:8080/",
          "height": 34
        }
      },
      "source": [
        "api = alp.REST(key_id = 'PKC3Q62740ML0K30TPVC', secret_key = 'TWyyiQcOqpRKyv2xNOt1XLAKZPW8vqvGraHtneMB', base_url=\"https://paper-api.alpaca.markets\")\n",
        "api.list_positions()\n",
        "api_time_format = '%Y-%m-%dT%H:%M:%S.%f-04:00'\n",
        "account = api.get_account()\n",
        "account.status"
      ],
      "execution_count": 0,
      "outputs": [
        {
          "output_type": "execute_result",
          "data": {
            "text/plain": [
              "'ACTIVE'"
            ]
          },
          "metadata": {
            "tags": []
          },
          "execution_count": 3
        }
      ]
    },
    {
      "cell_type": "code",
      "metadata": {
        "id": "RZvvR0y_FqMU",
        "colab_type": "code",
        "outputId": "e8e3a8c7-a4f6-4af7-af45-a8ca56df8324",
        "colab": {
          "base_uri": "https://localhost:8080/",
          "height": 52
        }
      },
      "source": [
        "today = (dt.datetime.now())\n",
        "print(today)\n",
        "equity = float(account.equity)\n",
        "margin_multiplier = float(account.multiplier)\n",
        "total_buying_power = margin_multiplier * equity\n",
        "print(f'Initial total buying power = {total_buying_power}, {total_buying_power*100/equity}%')"
      ],
      "execution_count": 0,
      "outputs": [
        {
          "output_type": "stream",
          "text": [
            "2019-12-02 08:48:21.614397\n",
            "Initial total buying power = 400000.0, 400.0%\n"
          ],
          "name": "stdout"
        }
      ]
    },
    {
      "cell_type": "code",
      "metadata": {
        "id": "pLPd8wCVGpa1",
        "colab_type": "code",
        "outputId": "a428f4a2-afdc-4637-87f2-3dd809206261",
        "colab": {
          "base_uri": "https://localhost:8080/",
          "height": 52
        }
      },
      "source": [
        "now = (dt.datetime.now()).date().strftime(api_time_format)\n",
        "data = api.get_barset('TSLA',timeframe='day', limit=80, end=now)\n",
        "sma6 = 0\n",
        "sma4 = 0\n",
        "for i in range(1,60):\n",
        "  sma6 = (sma6 + data['TSLA'][-i].c)\n",
        "sma6=round(sma6/60,2)\n",
        "\n",
        "for i in range(1,40):\n",
        "  sma4 = (sma4 + data['TSLA'][-i].c)\n",
        "sma4=round(sma4/40,2)\n",
        "\n",
        "print(f'Simple moving average, 60D:{sma6} 40D:{sma4}')\n",
        "if sma4 > sma6 :\n",
        "  print('BUY PHASE')\n",
        "elif sma6 > sma4:\n",
        "  print('SELL PHASE')\n",
        "else:\n",
        "  print('GOLD CROSS IN COURSE')"
      ],
      "execution_count": 0,
      "outputs": [
        {
          "output_type": "stream",
          "text": [
            "Simple moving average, 60D:278.9 40D:298.48\n",
            "BUY PHASE\n"
          ],
          "name": "stdout"
        }
      ]
    },
    {
      "cell_type": "code",
      "metadata": {
        "id": "Blr-ySH1dX2E",
        "colab_type": "code",
        "colab": {}
      },
      "source": [
        "class GX:\n",
        "  def __init__(self):\n",
        "    self.alpaca=alp.REST(key_id = 'PKC3Q62740ML0K30TPVC', secret_key = 'TWyyiQcOqpRKyv2xNOt1XLAKZPW8vqvGraHtneMB', base_url=\"https://paper-api.alpaca.markets\")\n",
        "    stockUniverse = ['DOMO', 'TLRY', 'SQ', 'MRO', 'AAPL', 'GM', 'SNAP', 'SHOP', 'SPLK', 'BA', 'AMZN', 'SUI', 'SUN', 'TSLA', 'CGC', 'SPWR', 'NIO', 'CAT', 'MSFT', 'PANW', 'OKTA', 'TWTR', 'TM', 'RTN', 'ATVI', 'GS', 'BAC', 'MS', 'TWLO', 'QCOM', ]\n",
        "    self.allStocks = []\n",
        "\n",
        "    for stock in stockUniverse:\n",
        "      self.allStocks.append([stock, 0])\n",
        "\n",
        "    self.long = []\n",
        "    self.short = []\n",
        "    self.qShort = None\n",
        "    self.qLong = None\n",
        "    self.adjustedQLong = None\n",
        "    self.adjustedQShort = None\n",
        "    self.blacklist = set()\n",
        "    self.longAmount = 0\n",
        "    self.shortAmount = 0\n",
        "    self.timeToClose = None\n",
        "\n",
        "  def run(self):\n",
        "    orders = self.alpaca.list_orders(status=\"open\")\n",
        "    for order in orders:\n",
        "      self.alpaca.cancel_order(order.id)\n",
        "\n",
        "    print(\"Waiting for market to open...\")\n",
        "    tAMO = threading.Thread(target=self.awaitMarketOpen)\n",
        "    tAMO.start()\n",
        "    tAMO.join()\n",
        "    print(\"Market opened.\")\n",
        "\n",
        "    while True:\n",
        "      clock = self.alpaca.get_clock()\n",
        "      closingTime = clock.next_close.replace(tzinfo=datetime.timezone.utc).timestamp()\n",
        "      currTime = clock.timestamp.replace(tzinfo=datetime.timezone.utc).timestamp()\n",
        "      self.timeToClose = closingTime - currTime\n",
        "\n",
        "      if(self.timeToClose < (60 * 15)): # Close all positions when 15 minutes til market close.\n",
        "        print(\"Market closing soon.  Closing positions.\")\n",
        "        positions = self.alpaca.list_positions()\n",
        "\n",
        "        for position in positions:\n",
        "          if(position.side == 'long'):\n",
        "            orderSide = 'sell'\n",
        "          else:\n",
        "            orderSide = 'buy'\n",
        "          qty = abs(int(float(position.qty)))\n",
        "          respSO = []\n",
        "          tSubmitOrder = threading.Thread(target=self.submitOrder(qty, position.symbol, orderSide, respSO))\n",
        "          tSubmitOrder.start()\n",
        "          tSubmitOrder.join()\n",
        "        print(\"Sleeping until market close (15 minutes).\")\n",
        "        time.sleep(60 * 15)\n",
        "\n",
        "        "
      ],
      "execution_count": 0,
      "outputs": []
    },
    {
      "cell_type": "code",
      "metadata": {
        "id": "kdfxiH7BzLzr",
        "colab_type": "code",
        "colab": {}
      },
      "source": [
        ""
      ],
      "execution_count": 0,
      "outputs": []
    },
    {
      "cell_type": "code",
      "metadata": {
        "id": "-LsYTLpA6NrR",
        "colab_type": "code",
        "colab": {}
      },
      "source": [
        "def get_ratings(symbols, algo_time):\n",
        "  assets = api.list_assets()\n",
        "  assets = [asset for asset in assets if asset.tradable ]\n",
        "  ratings = pd.DataFrame(columns=['symbol', 'rating', 'price'])\n",
        "  index = 0\n",
        "  batch_size = 200 # The maximum number of stocks to request data for\n",
        "  window_size = 80 # The number of days of data to consider\n",
        "  formatted_time = None\n",
        "  if algo_time is not None:\n",
        "    # Convert the time to something compatable with the Alpaca API.\n",
        "    formatted_time = algo_time.date().strftime(api_time_format)\n",
        "    print(formatted_time)\n",
        "  while index < len(assets):\n",
        "    symbol_batch = [asset.symbol for asset in assets[index:index+batch_size]]\n",
        "    barset = api.get_barset(\n",
        "        symbols=symbol_batch,\n",
        "        timeframe='day',\n",
        "        limit=window_size,\n",
        "        end=formatted_time\n",
        "        )\n",
        "    for symbol in symbol_batch:\n",
        "      bars = barset[symbol]\n",
        "      price = bars[-1].c\n",
        "      print(price)\n",
        "      if len(bars) == window_size:\n",
        "        # Make sure we aren't missing the most recent data.\n",
        "        latest_bar = bars[-1].t.to_pydatetime().astimezone(timezone('EST'))\n",
        "        gap_from_present = algo_time - latest_bar\n",
        "        if gap_from_present.days > 1:\n",
        "          continue\n",
        "        \n",
        "        price = bars[-1].c\n",
        "        print(price)"
      ],
      "execution_count": 0,
      "outputs": []
    },
    {
      "cell_type": "code",
      "metadata": {
        "id": "V7MkJnkPKG_B",
        "colab_type": "code",
        "colab": {}
      },
      "source": [
        "today = datetime.utcnow()\n",
        "get_ratings('FB',today)"
      ],
      "execution_count": 0,
      "outputs": []
    },
    {
      "cell_type": "code",
      "metadata": {
        "id": "YFOOhe7E65l4",
        "colab_type": "code",
        "colab": {}
      },
      "source": [
        "# Daily OHLCV dataframe\n",
        "aapl_daily = api.polygon.historic_agg('day', 'AAPL', limit=1000).df\n",
        "# Dictionary of most recent earning stats for each company\n",
        "list_earning = api.polygon.earnings(['MSFT','FB','AMZN'])\n",
        "# Returns a list articles and their meta-data\n",
        "tsla_news = api.polygon.news('TSLA')"
      ],
      "execution_count": 0,
      "outputs": []
    },
    {
      "cell_type": "code",
      "metadata": {
        "id": "Odq_gdaQ66R8",
        "colab_type": "code",
        "colab": {}
      },
      "source": [
        "# Lists currently open trades\n",
        "positions = api.list_positions()\n",
        "# Places a limit order\n",
        "api.submit_order('AAPL',10,'buy','limit','gtc',170.50,)\n",
        "# Lists all open orders\n",
        "orders = api.list_orders()"
      ],
      "execution_count": 0,
      "outputs": []
    }
  ]
}